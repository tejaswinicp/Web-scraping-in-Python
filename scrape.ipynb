{
 "cells": [
  {
   "cell_type": "code",
   "execution_count": 4,
   "metadata": {},
   "outputs": [],
   "source": [
    "from bs4 import BeautifulSoup"
   ]
  },
  {
   "cell_type": "code",
   "execution_count": 5,
   "metadata": {},
   "outputs": [],
   "source": [
    "soup = BeautifulSoup(page.content, 'html.parser')"
   ]
  },
  {
   "cell_type": "code",
   "execution_count": 7,
   "metadata": {},
   "outputs": [],
   "source": [
    "html = list(soup.children)[2]\n",
    "body = list(html.children)[3]\n",
    "p = list(body.children)[1]"
   ]
  },
  {
   "cell_type": "code",
   "execution_count": 8,
   "metadata": {},
   "outputs": [
    {
     "data": {
      "text/plain": [
       "'Here is some simple content for this page.'"
      ]
     },
     "execution_count": 8,
     "metadata": {},
     "output_type": "execute_result"
    }
   ],
   "source": [
    "p.get_text()"
   ]
  },
  {
   "cell_type": "code",
   "execution_count": 9,
   "metadata": {},
   "outputs": [],
   "source": [
    "page = requests.get(\"http://forecast.weather.gov/MapClick.php?lat=37.7772&lon=-122.4168\")\n",
    "soup = BeautifulSoup(page.content, 'html.parser')\n",
    "seven_day = soup.find(id=\"seven-day-forecast\")\n",
    "forecast_items = seven_day.find_all(class_=\"tombstone-container\")\n",
    "tonight = forecast_items[0]"
   ]
  },
  {
   "cell_type": "code",
   "execution_count": 10,
   "metadata": {},
   "outputs": [
    {
     "data": {
      "text/plain": [
       "'<div class=\"tombstone-container\">\\n <p class=\"period-name\">\\n  Overnight\\n  <br/>\\n  <br/>\\n </p>\\n <p>\\n  <img alt=\"Overnight: Mostly cloudy, with a low around 56. West southwest wind around 10 mph. \" class=\"forecast-icon\" src=\"newimages/medium/nbkn.png\" title=\"Overnight: Mostly cloudy, with a low around 56. West southwest wind around 10 mph. \"/>\\n </p>\\n <p class=\"short-desc\">\\n  Mostly Cloudy\\n </p>\\n <p class=\"temp temp-low\">\\n  Low: 56 °F\\n </p>\\n</div>'"
      ]
     },
     "execution_count": 10,
     "metadata": {},
     "output_type": "execute_result"
    }
   ],
   "source": [
    "tonight.prettify()"
   ]
  },
  {
   "cell_type": "code",
   "execution_count": 11,
   "metadata": {},
   "outputs": [
    {
     "name": "stdout",
     "output_type": "stream",
     "text": [
      "Overnight\n",
      "Mostly Cloudy\n",
      "Low: 56 °F\n"
     ]
    }
   ],
   "source": [
    "period = tonight.find(class_=\"period-name\").get_text()\n",
    "short_desc = tonight.find(class_=\"short-desc\").get_text()\n",
    "temp = tonight.find(class_=\"temp\").get_text()\n",
    "print(period)\n",
    "print(short_desc)\n",
    "print(temp)"
   ]
  },
  {
   "cell_type": "code",
   "execution_count": 13,
   "metadata": {},
   "outputs": [
    {
     "name": "stdout",
     "output_type": "stream",
     "text": [
      "Overnight: Mostly cloudy, with a low around 56. West southwest wind around 10 mph. \n"
     ]
    }
   ],
   "source": [
    "img = tonight.find(\"img\")\n",
    "desc = img['title']\n",
    "print(desc)"
   ]
  },
  {
   "cell_type": "code",
   "execution_count": 14,
   "metadata": {},
   "outputs": [
    {
     "data": {
      "text/plain": [
       "['Overnight',\n",
       " 'Friday',\n",
       " 'FridayNight',\n",
       " 'Saturday',\n",
       " 'SaturdayNight',\n",
       " 'Sunday',\n",
       " 'SundayNight',\n",
       " 'Monday',\n",
       " 'MondayNight']"
      ]
     },
     "execution_count": 14,
     "metadata": {},
     "output_type": "execute_result"
    }
   ],
   "source": [
    "period_tags = seven_day.select(\".tombstone-container .period-name\")\n",
    "periods = [pt.get_text() for pt in period_tags]\n",
    "periods"
   ]
  },
  {
   "cell_type": "markdown",
   "metadata": {},
   "source": [
    "## Extracting all the information from the page"
   ]
  },
  {
   "cell_type": "code",
   "execution_count": 19,
   "metadata": {},
   "outputs": [
    {
     "name": "stdout",
     "output_type": "stream",
     "text": [
      "['Mostly Cloudy', 'Mostly Cloudy', 'ChanceShowers', 'ChanceShowers', 'Mostly Cloudy', 'Mostly Cloudy', 'Mostly Cloudy', 'Partly Sunny', 'Partly Cloudy']\n",
      "['Low: 56 °F', 'High: 69 °F', 'Low: 59 °F', 'High: 70 °F', 'Low: 56 °F', 'High: 68 °F', 'Low: 56 °F', 'High: 67 °F', 'Low: 55 °F']\n",
      "['Overnight: Mostly cloudy, with a low around 56. West southwest wind around 10 mph. ', 'Friday: Mostly cloudy, with a high near 69. Southwest wind 11 to 20 mph, with gusts as high as 30 mph. ', 'Friday Night: A 40 percent chance of showers after 11pm.  Increasing clouds, with a low around 59. South wind 10 to 16 mph, with gusts as high as 26 mph.  New precipitation amounts of less than a tenth of an inch possible. ', 'Saturday: A 50 percent chance of showers.  Partly sunny, with a high near 70. South southwest wind 8 to 15 mph, with gusts as high as 18 mph.  New precipitation amounts of less than a tenth of an inch possible. ', 'Saturday Night: Mostly cloudy, with a low around 56. South southwest wind 6 to 11 mph becoming light west southwest  after midnight. ', 'Sunday: Mostly cloudy, with a high near 68.', 'Sunday Night: Mostly cloudy, with a low around 56.', 'Monday: Partly sunny, with a high near 67.', 'Monday Night: Partly cloudy, with a low around 55.']\n"
     ]
    }
   ],
   "source": [
    "short_descs = [sd.get_text() for sd in seven_day.select(\".tombstone-container .short-desc\")]\n",
    "temps = [t.get_text() for t in seven_day.select(\".tombstone-container .temp\")]\n",
    "descs = [d[\"title\"] for d in seven_day.select(\".tombstone-container img\")]\n",
    "print(short_descs)\n",
    "print(temps)\n",
    "print(descs)"
   ]
  },
  {
   "cell_type": "markdown",
   "metadata": {},
   "source": [
    "## Combining our data into a Pandas Dataframe"
   ]
  },
  {
   "cell_type": "code",
   "execution_count": 20,
   "metadata": {},
   "outputs": [
    {
     "data": {
      "text/html": [
       "<div>\n",
       "<style scoped>\n",
       "    .dataframe tbody tr th:only-of-type {\n",
       "        vertical-align: middle;\n",
       "    }\n",
       "\n",
       "    .dataframe tbody tr th {\n",
       "        vertical-align: top;\n",
       "    }\n",
       "\n",
       "    .dataframe thead th {\n",
       "        text-align: right;\n",
       "    }\n",
       "</style>\n",
       "<table border=\"1\" class=\"dataframe\">\n",
       "  <thead>\n",
       "    <tr style=\"text-align: right;\">\n",
       "      <th></th>\n",
       "      <th>period</th>\n",
       "      <th>short_desc</th>\n",
       "      <th>temp</th>\n",
       "      <th>desc</th>\n",
       "    </tr>\n",
       "  </thead>\n",
       "  <tbody>\n",
       "    <tr>\n",
       "      <th>0</th>\n",
       "      <td>Overnight</td>\n",
       "      <td>Mostly Cloudy</td>\n",
       "      <td>Low: 56 °F</td>\n",
       "      <td>Overnight: Mostly cloudy, with a low around 56...</td>\n",
       "    </tr>\n",
       "    <tr>\n",
       "      <th>1</th>\n",
       "      <td>Friday</td>\n",
       "      <td>Mostly Cloudy</td>\n",
       "      <td>High: 69 °F</td>\n",
       "      <td>Friday: Mostly cloudy, with a high near 69. So...</td>\n",
       "    </tr>\n",
       "    <tr>\n",
       "      <th>2</th>\n",
       "      <td>FridayNight</td>\n",
       "      <td>ChanceShowers</td>\n",
       "      <td>Low: 59 °F</td>\n",
       "      <td>Friday Night: A 40 percent chance of showers a...</td>\n",
       "    </tr>\n",
       "    <tr>\n",
       "      <th>3</th>\n",
       "      <td>Saturday</td>\n",
       "      <td>ChanceShowers</td>\n",
       "      <td>High: 70 °F</td>\n",
       "      <td>Saturday: A 50 percent chance of showers.  Par...</td>\n",
       "    </tr>\n",
       "    <tr>\n",
       "      <th>4</th>\n",
       "      <td>SaturdayNight</td>\n",
       "      <td>Mostly Cloudy</td>\n",
       "      <td>Low: 56 °F</td>\n",
       "      <td>Saturday Night: Mostly cloudy, with a low arou...</td>\n",
       "    </tr>\n",
       "    <tr>\n",
       "      <th>5</th>\n",
       "      <td>Sunday</td>\n",
       "      <td>Mostly Cloudy</td>\n",
       "      <td>High: 68 °F</td>\n",
       "      <td>Sunday: Mostly cloudy, with a high near 68.</td>\n",
       "    </tr>\n",
       "    <tr>\n",
       "      <th>6</th>\n",
       "      <td>SundayNight</td>\n",
       "      <td>Mostly Cloudy</td>\n",
       "      <td>Low: 56 °F</td>\n",
       "      <td>Sunday Night: Mostly cloudy, with a low around...</td>\n",
       "    </tr>\n",
       "    <tr>\n",
       "      <th>7</th>\n",
       "      <td>Monday</td>\n",
       "      <td>Partly Sunny</td>\n",
       "      <td>High: 67 °F</td>\n",
       "      <td>Monday: Partly sunny, with a high near 67.</td>\n",
       "    </tr>\n",
       "    <tr>\n",
       "      <th>8</th>\n",
       "      <td>MondayNight</td>\n",
       "      <td>Partly Cloudy</td>\n",
       "      <td>Low: 55 °F</td>\n",
       "      <td>Monday Night: Partly cloudy, with a low around...</td>\n",
       "    </tr>\n",
       "  </tbody>\n",
       "</table>\n",
       "</div>"
      ],
      "text/plain": [
       "          period     short_desc         temp  \\\n",
       "0      Overnight  Mostly Cloudy   Low: 56 °F   \n",
       "1         Friday  Mostly Cloudy  High: 69 °F   \n",
       "2    FridayNight  ChanceShowers   Low: 59 °F   \n",
       "3       Saturday  ChanceShowers  High: 70 °F   \n",
       "4  SaturdayNight  Mostly Cloudy   Low: 56 °F   \n",
       "5         Sunday  Mostly Cloudy  High: 68 °F   \n",
       "6    SundayNight  Mostly Cloudy   Low: 56 °F   \n",
       "7         Monday   Partly Sunny  High: 67 °F   \n",
       "8    MondayNight  Partly Cloudy   Low: 55 °F   \n",
       "\n",
       "                                                desc  \n",
       "0  Overnight: Mostly cloudy, with a low around 56...  \n",
       "1  Friday: Mostly cloudy, with a high near 69. So...  \n",
       "2  Friday Night: A 40 percent chance of showers a...  \n",
       "3  Saturday: A 50 percent chance of showers.  Par...  \n",
       "4  Saturday Night: Mostly cloudy, with a low arou...  \n",
       "5        Sunday: Mostly cloudy, with a high near 68.  \n",
       "6  Sunday Night: Mostly cloudy, with a low around...  \n",
       "7         Monday: Partly sunny, with a high near 67.  \n",
       "8  Monday Night: Partly cloudy, with a low around...  "
      ]
     },
     "execution_count": 20,
     "metadata": {},
     "output_type": "execute_result"
    }
   ],
   "source": [
    "import pandas as pd\n",
    "weather = pd.DataFrame({\n",
    "    \"period\": periods,\n",
    "    \"short_desc\": short_descs,\n",
    "    \"temp\": temps,\n",
    "    \"desc\":descs\n",
    "})\n",
    "weather"
   ]
  },
  {
   "cell_type": "code",
   "execution_count": 21,
   "metadata": {},
   "outputs": [
    {
     "data": {
      "text/plain": [
       "0    56\n",
       "1    69\n",
       "2    59\n",
       "3    70\n",
       "4    56\n",
       "5    68\n",
       "6    56\n",
       "7    67\n",
       "8    55\n",
       "Name: temp_num, dtype: object"
      ]
     },
     "execution_count": 21,
     "metadata": {},
     "output_type": "execute_result"
    }
   ],
   "source": [
    "temp_nums = weather[\"temp\"].str.extract(\"(?P<temp_num>\\d+)\", expand=False)\n",
    "weather[\"temp_num\"] = temp_nums.astype('int')\n",
    "temp_nums"
   ]
  },
  {
   "cell_type": "code",
   "execution_count": 22,
   "metadata": {},
   "outputs": [
    {
     "data": {
      "text/plain": [
       "61.77777777777778"
      ]
     },
     "execution_count": 22,
     "metadata": {},
     "output_type": "execute_result"
    }
   ],
   "source": [
    "weather[\"temp_num\"].mean()"
   ]
  },
  {
   "cell_type": "code",
   "execution_count": 23,
   "metadata": {},
   "outputs": [
    {
     "data": {
      "text/plain": [
       "0     True\n",
       "1    False\n",
       "2     True\n",
       "3    False\n",
       "4     True\n",
       "5    False\n",
       "6     True\n",
       "7    False\n",
       "8     True\n",
       "Name: temp, dtype: bool"
      ]
     },
     "execution_count": 23,
     "metadata": {},
     "output_type": "execute_result"
    }
   ],
   "source": [
    "is_night = weather[\"temp\"].str.contains(\"Low\")\n",
    "weather[\"is_night\"] = is_night\n",
    "is_night"
   ]
  },
  {
   "cell_type": "code",
   "execution_count": null,
   "metadata": {},
   "outputs": [],
   "source": []
  }
 ],
 "metadata": {
  "kernelspec": {
   "display_name": "Python 3",
   "language": "python",
   "name": "python3"
  },
  "language_info": {
   "codemirror_mode": {
    "name": "ipython",
    "version": 3
   },
   "file_extension": ".py",
   "mimetype": "text/x-python",
   "name": "python",
   "nbconvert_exporter": "python",
   "pygments_lexer": "ipython3",
   "version": "3.6.5"
  }
 },
 "nbformat": 4,
 "nbformat_minor": 2
}
